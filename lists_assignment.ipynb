{
 "cells": [
  {
   "cell_type": "code",
   "execution_count": 1,
   "metadata": {},
   "outputs": [
    {
     "name": "stdout",
     "output_type": "stream",
     "text": [
      "[1, 2, 3, 4, 5, 6, 7, 8, 9, 10, 11, 12, 13, 14, 15, 16, 17, 18, 19, 20]\n"
     ]
    }
   ],
   "source": [
    "### Create a list of the first 20 positive integers. Print the list.\n",
    "\n",
    "lst=list(range(1,21))\n",
    "print(list)"
   ]
  },
  {
   "cell_type": "code",
   "execution_count": 4,
   "metadata": {},
   "outputs": [
    {
     "name": "stdout",
     "output_type": "stream",
     "text": [
      "First element: 1\n",
      "Middle element: 11\n",
      "Last Element: 20\n"
     ]
    }
   ],
   "source": [
    "### Print the first, middle, and last elements of the list created \n",
    "\n",
    "print(f\"First element: {list[0]}\")\n",
    "print(f\"Middle element: {list[len(list)//2]}\")\n",
    "print(f\"Last Element: {list[-1]}\")"
   ]
  },
  {
   "cell_type": "code",
   "execution_count": 7,
   "metadata": {},
   "outputs": [
    {
     "name": "stdout",
     "output_type": "stream",
     "text": [
      "[1, 2, 3, 4, 5]\n",
      "[16, 17, 18, 19, 20]\n",
      "[6, 7, 8, 9, 10, 11, 12, 13, 14, 15, 16]\n"
     ]
    }
   ],
   "source": [
    "### Print the first five elements, the last five elements, and the elements from index 5 to 15 of the list created \n",
    "\n",
    "print(list[:5])\n",
    "print(list[15:])\n",
    "print(list[5:16])\n"
   ]
  },
  {
   "cell_type": "code",
   "execution_count": 9,
   "metadata": {},
   "outputs": [
    {
     "name": "stdout",
     "output_type": "stream",
     "text": [
      "0 1\n",
      "1 2\n",
      "2 3\n",
      "3 4\n",
      "4 5\n",
      "5 6\n",
      "6 7\n",
      "7 8\n",
      "8 9\n",
      "9 10\n",
      "10 11\n",
      "11 12\n",
      "12 13\n",
      "13 14\n",
      "14 15\n",
      "15 16\n",
      "16 17\n",
      "17 18\n",
      "18 19\n",
      "19 20\n"
     ]
    }
   ],
   "source": [
    "for index,number in enumerate(list):\n",
    "    print(index, number)"
   ]
  },
  {
   "cell_type": "code",
   "execution_count": 10,
   "metadata": {},
   "outputs": [
    {
     "name": "stdout",
     "output_type": "stream",
     "text": [
      "[0, 1, 4, 9, 16, 25, 36, 49, 64, 81, 100]\n"
     ]
    }
   ],
   "source": [
    "### Create a new list containing the squares of the first 10 positive integers using a list comprehension. Print the new list.\n",
    "\n",
    "squared_list = [x**2 for x in range(11)]\n",
    "print(squared_list)"
   ]
  },
  {
   "cell_type": "code",
   "execution_count": 15,
   "metadata": {},
   "outputs": [
    {
     "name": "stdout",
     "output_type": "stream",
     "text": [
      "[2, 4, 6, 8, 10, 12, 14, 16, 18, 20]\n"
     ]
    }
   ],
   "source": [
    "### Create a new list containing only the even numbers from the list created in Assignment 1 using a list comprehension. Print the new list.\n",
    "\n",
    "even_list=[num for num in list if num%2==0]\n",
    "print(even_list)"
   ]
  },
  {
   "cell_type": "code",
   "execution_count": 23,
   "metadata": {},
   "outputs": [
    {
     "name": "stdout",
     "output_type": "stream",
     "text": [
      "Ascending order: [2, 4, 4, 4, 5, 8, 10, 12, 13, 14, 14, 15, 16, 18, 20]\n",
      "Descending order: [20, 18, 16, 15, 14, 14, 13, 12, 10, 8, 5, 4, 4, 4, 2]\n",
      "No Duplicates Present: {2, 4, 5, 8, 10, 12, 13, 14, 15, 16, 18, 20}\n"
     ]
    }
   ],
   "source": [
    "### Create a list of random numbers and sort it in ascending and descending order. Remove the duplicates from the list and print the modified list.\n",
    "\n",
    "import random\n",
    "\n",
    "random_numbers=[random.randint(1,20) for _ in range(15)]\n",
    "\n",
    "print(f\"Ascending order: {sorted(random_numbers)}\")\n",
    "print(f\"Descending order: {sorted(random_numbers, reverse=True)}\")\n",
    "print(f\"No Duplicates Present: {(set(random_numbers))}\")"
   ]
  },
  {
   "cell_type": "code",
   "execution_count": 25,
   "metadata": {},
   "outputs": [
    {
     "name": "stdout",
     "output_type": "stream",
     "text": [
      "[1, 2, 3]\n",
      "[4, 5, 6]\n",
      "[7, 8, 9]\n",
      "The element at the second row third column is: 6\n"
     ]
    }
   ],
   "source": [
    "### Create a nested list representing a 3x3 matrix and print the matrix. Access and print the element at the second row and third column.\n",
    "\n",
    "matrix = [\n",
    "    [1,2,3],\n",
    "    [4,5,6],\n",
    "    [7,8,9]\n",
    "]\n",
    "for num in matrix:\n",
    "    print(num)\n",
    "print(f\"The element at the second row third column is: {matrix[1][2]}\")"
   ]
  },
  {
   "cell_type": "code",
   "execution_count": 29,
   "metadata": {},
   "outputs": [
    {
     "name": "stdout",
     "output_type": "stream",
     "text": [
      "[{'name': 'Yashraj', 'score': 90}, {'name': 'Parth', 'score': 100}, {'name': 'Noman', 'score': 12}, {'name': 'Sali', 'score': 86}, {'name': 'Vinay', 'score': 54}, {'name': 'Pranay', 'score': 95}]\n",
      "The sorted dictionary of students is: \n",
      "{'name': 'Parth', 'score': 100}\n",
      "{'name': 'Pranay', 'score': 95}\n",
      "{'name': 'Yashraj', 'score': 90}\n",
      "{'name': 'Sali', 'score': 86}\n",
      "{'name': 'Vinay', 'score': 54}\n",
      "{'name': 'Noman', 'score': 12}\n"
     ]
    }
   ],
   "source": [
    "### Create a list of dictionaries where each dictionary represents a student with keys 'name' and 'score'. Sort the list of dictionaries by the 'score' in descending order and print the sorted list.\n",
    "\n",
    "dictionary = [\n",
    "     {\"name\": \"Yashraj\", \"score\": 90},\n",
    "    {\"name\": \"Parth\", \"score\": 100},\n",
    "    {\"name\": \"Noman\", \"score\": 12},\n",
    "    {\"name\": \"Sali\", \"score\": 86},\n",
    "    {\"name\": \"Vinay\", \"score\": 54},\n",
    "    {\"name\": \"Pranay\", \"score\": 95}\n",
    "]\n",
    "print(dictionary)\n",
    "sorted_dictionary = sorted(dictionary, key=lambda x: x['score'], reverse=True)\n",
    "\n",
    "print(\"The sorted dictionary of students is: \")\n",
    "for student in sorted_dictionary:\n",
    "    print(student)"
   ]
  },
  {
   "cell_type": "code",
   "execution_count": 30,
   "metadata": {},
   "outputs": [
    {
     "name": "stdout",
     "output_type": "stream",
     "text": [
      "Original matrix: \n",
      "[1, 2, 3]\n",
      "[4, 5, 6]\n",
      "[7, 8, 9]\n",
      "Transposed Matrix: \n",
      "[1, 4, 7]\n",
      "[2, 5, 8]\n",
      "[3, 6, 9]\n"
     ]
    }
   ],
   "source": [
    "### Write a function that takes a 3x3 matrix (nested list) as input and returns its transpose. Print the original and transposed matrices.\n",
    "\n",
    "def transpose_matrix(matrix):\n",
    "    transposed=[[matrix[j][i] for j in range(len(matrix))] for i in range (len(matrix))]\n",
    "    return transposed\n",
    "\n",
    "original_matrix = [\n",
    "    [1,2,3],\n",
    "    [4,5,6],\n",
    "    [7,8,9]\n",
    "]\n",
    "\n",
    "transposed_matrix = transpose_matrix(original_matrix)\n",
    "\n",
    "print(\"Original matrix: \")\n",
    "for row in original_matrix:\n",
    "    print(row)\n",
    "\n",
    "print(\"Transposed Matrix: \")\n",
    "for row in transposed_matrix:\n",
    "    print(row)"
   ]
  },
  {
   "cell_type": "code",
   "execution_count": 31,
   "metadata": {},
   "outputs": [
    {
     "name": "stdout",
     "output_type": "stream",
     "text": [
      "Original nested list:\n",
      "[[1, 2, 3], [4, 5, 6], [7, 8, 9]]\n",
      "Flattened list:\n",
      "[1, 2, 3, 4, 5, 6, 7, 8, 9]\n"
     ]
    }
   ],
   "source": [
    "### Write a function that takes a nested list and flattens it into a single list. Print the original and flattened lists.\n",
    "\n",
    "def flatten_list(nested_list):\n",
    "    flat_list = [item for sublist in nested_list for item in sublist]\n",
    "    return flat_list\n",
    "\n",
    "nested_list = [\n",
    "    [1, 2, 3],\n",
    "    [4, 5, 6],\n",
    "    [7, 8, 9]\n",
    "]\n",
    "flattened = flatten_list(nested_list)\n",
    "print(\"Original nested list:\")\n",
    "print(nested_list)\n",
    "print(\"Flattened list:\")\n",
    "print(flattened)\n"
   ]
  },
  {
   "cell_type": "code",
   "execution_count": 1,
   "metadata": {},
   "outputs": [
    {
     "name": "stdout",
     "output_type": "stream",
     "text": [
      "Original list:\n",
      "[1, 2, 3, 4, 5, 6, 7, 8, 9, 10]\n",
      "Modified list:\n",
      "[1, 2, 4, 6, 8, 99, 9, 10]\n"
     ]
    }
   ],
   "source": [
    "### Create a list of the first 10 positive integers. Remove the elements at indices 2, 4, and 6, and insert the element '99' at index 5. Print the modified list.\n",
    "\n",
    "lst = list(range(1, 11))\n",
    "print(\"Original list:\")\n",
    "print(lst)\n",
    "\n",
    "del lst[6]  # Remove element at index 6 (value 7)\n",
    "del lst[4]  # Remove element at index 4 (value 5)\n",
    "del lst[2]  # Remove element at index 2 (value 3)\n",
    "\n",
    "# Insert '99' at index 5\n",
    "lst.insert(5, 99)\n",
    "\n",
    "# Print the modified list\n",
    "print(\"Modified list:\")\n",
    "print(lst)\n"
   ]
  },
  {
   "cell_type": "code",
   "execution_count": 2,
   "metadata": {},
   "outputs": [
    {
     "name": "stdout",
     "output_type": "stream",
     "text": [
      "[('a', 1), ('b', 2), ('c', 3), ('d', 4), ('e', 5)]\n"
     ]
    }
   ],
   "source": [
    "### Create two lists of the same length. Use the `zip` function to combine these lists into a list of tuples and print the result.\n",
    "\n",
    "numbers = [1,2,3,4,5]\n",
    "letters = ['a', 'b', 'c', 'd', 'e']\n",
    "\n",
    "zipped_list = list(zip(letters, numbers))\n",
    "\n",
    "print(zipped_list)"
   ]
  },
  {
   "cell_type": "code",
   "execution_count": 4,
   "metadata": {},
   "outputs": [
    {
     "name": "stdout",
     "output_type": "stream",
     "text": [
      "Original List: [1, 2, 3, 4, 5, 6, 7, 8, 9, 10]\n",
      "Reversed List: [10, 9, 8, 7, 6, 5, 4, 3, 2, 1]\n"
     ]
    }
   ],
   "source": [
    "### Write a function that takes a list and returns a new list with the elements in reverse order. Print the original and reversed lists.\n",
    "\n",
    "def reverse_list(list):\n",
    "    return list[::-1]\n",
    "\n",
    "original_list = [1,2,3,4,5,6,7,8,9,10]\n",
    "\n",
    "reversed_list = reverse_list(original_list)\n",
    "\n",
    "print(f\"Original List: {original_list}\")\n",
    "print(f\"Reversed List: {reversed_list}\")"
   ]
  }
 ],
 "metadata": {
  "kernelspec": {
   "display_name": "Python 3",
   "language": "python",
   "name": "python3"
  },
  "language_info": {
   "codemirror_mode": {
    "name": "ipython",
    "version": 3
   },
   "file_extension": ".py",
   "mimetype": "text/x-python",
   "name": "python",
   "nbconvert_exporter": "python",
   "pygments_lexer": "ipython3",
   "version": "3.9.6"
  }
 },
 "nbformat": 4,
 "nbformat_minor": 2
}
