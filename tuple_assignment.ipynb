{
 "cells": [
  {
   "cell_type": "code",
   "execution_count": 2,
   "metadata": {},
   "outputs": [
    {
     "name": "stdout",
     "output_type": "stream",
     "text": [
      "(1, 2, 3, 4, 5, 6, 7, 8, 9, 10)\n"
     ]
    }
   ],
   "source": [
    "### Create a tuple with the first 10 positive integers. Print the tuple.\n",
    "\n",
    "numbers = tuple([1,2,3,4,5,6,7,8,9,10])\n",
    "print(numbers)"
   ]
  },
  {
   "cell_type": "code",
   "execution_count": 4,
   "metadata": {},
   "outputs": [
    {
     "name": "stdout",
     "output_type": "stream",
     "text": [
      "First element: 1\n",
      "Last element: 10\n",
      "Middle element: 5\n"
     ]
    }
   ],
   "source": [
    "### Print the first, middle, and last elements of the tuple created in Assignment 1.\n",
    "\n",
    "print(f\"First element: {numbers[0]}\")\n",
    "print(f\"Last element: {numbers[-1]}\")\n",
    "print(f\"Middle element: {len(numbers)//2}\")"
   ]
  },
  {
   "cell_type": "code",
   "execution_count": 7,
   "metadata": {},
   "outputs": [
    {
     "name": "stdout",
     "output_type": "stream",
     "text": [
      "The first three elements are: (1, 2, 3)\n",
      "The last three elements are: (8, 9, 10)\n",
      "The elements from index 2 to 5 are are: (3, 4, 5, 6)\n"
     ]
    }
   ],
   "source": [
    "### Print the first three elements, the last three elements, and the elements from index 2 to 5 of the tuple created in Assignment 1.\n",
    "\n",
    "print(f\"The first three elements are: {numbers[:3]}\")\n",
    "print(f\"The last three elements are: {numbers[7:]}\")\n",
    "print(f\"The elements from index 2 to 5 are are: {numbers[2:6]}\")"
   ]
  }
 ],
 "metadata": {
  "kernelspec": {
   "display_name": "Python 3",
   "language": "python",
   "name": "python3"
  },
  "language_info": {
   "codemirror_mode": {
    "name": "ipython",
    "version": 3
   },
   "file_extension": ".py",
   "mimetype": "text/x-python",
   "name": "python",
   "nbconvert_exporter": "python",
   "pygments_lexer": "ipython3",
   "version": "3.9.6"
  }
 },
 "nbformat": 4,
 "nbformat_minor": 2
}
