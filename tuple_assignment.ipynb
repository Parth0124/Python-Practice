{
 "cells": [
  {
   "cell_type": "code",
   "execution_count": 2,
   "metadata": {},
   "outputs": [
    {
     "name": "stdout",
     "output_type": "stream",
     "text": [
      "(1, 2, 3, 4, 5, 6, 7, 8, 9, 10)\n"
     ]
    }
   ],
   "source": [
    "### Create a tuple with the first 10 positive integers. Print the tuple.\n",
    "\n",
    "numbers = tuple([1,2,3,4,5,6,7,8,9,10])\n",
    "print(numbers)"
   ]
  },
  {
   "cell_type": "code",
   "execution_count": 4,
   "metadata": {},
   "outputs": [
    {
     "name": "stdout",
     "output_type": "stream",
     "text": [
      "First element: 1\n",
      "Last element: 10\n",
      "Middle element: 5\n"
     ]
    }
   ],
   "source": [
    "### Print the first, middle, and last elements of the tuple created in Assignment 1.\n",
    "\n",
    "print(f\"First element: {numbers[0]}\")\n",
    "print(f\"Last element: {numbers[-1]}\")\n",
    "print(f\"Middle element: {len(numbers)//2}\")"
   ]
  },
  {
   "cell_type": "code",
   "execution_count": 7,
   "metadata": {},
   "outputs": [
    {
     "name": "stdout",
     "output_type": "stream",
     "text": [
      "The first three elements are: (1, 2, 3)\n",
      "The last three elements are: (8, 9, 10)\n",
      "The elements from index 2 to 5 are are: (3, 4, 5, 6)\n"
     ]
    }
   ],
   "source": [
    "### Print the first three elements, the last three elements, and the elements from index 2 to 5 of the tuple created in Assignment 1.\n",
    "\n",
    "print(f\"The first three elements are: {numbers[:3]}\")\n",
    "print(f\"The last three elements are: {numbers[7:]}\")\n",
    "print(f\"The elements from index 2 to 5 are are: {numbers[2:6]}\")"
   ]
  },
  {
   "cell_type": "code",
   "execution_count": 11,
   "metadata": {},
   "outputs": [
    {
     "name": "stdout",
     "output_type": "stream",
     "text": [
      "(1, 2, 3)\n",
      "(4, 5, 6)\n",
      "(7, 8, 9)\n",
      "The element at the second row and third column is: 6\n"
     ]
    }
   ],
   "source": [
    "### Create a nested tuple representing a 3x3 matrix and print the matrix. Access and print the element at the second row and third column.\n",
    "\n",
    "matrix = (\n",
    "    (1,2,3),\n",
    "    (4,5,6),\n",
    "    (7,8,9)\n",
    ")\n",
    "\n",
    "for item in matrix:\n",
    "    print(item)\n",
    "\n",
    "print(f\"The element at the second row and third column is: {matrix[1][2]}\")"
   ]
  },
  {
   "cell_type": "code",
   "execution_count": 12,
   "metadata": {},
   "outputs": [
    {
     "name": "stdout",
     "output_type": "stream",
     "text": [
      "The concatenated tuple is: (1, 2, 3, 4, 5, 6)\n"
     ]
    }
   ],
   "source": [
    "### Concatenate two tuples: (1, 2, 3) and (4, 5, 6). Print the resulting tuple.\n",
    "\n",
    "tuple1 = (1,2,3)\n",
    "tuple2 = (4,5,6)\n",
    "\n",
    "concatenated_tuple = tuple1+tuple2\n",
    "\n",
    "print(f\"The concatenated tuple is: {concatenated_tuple}\")"
   ]
  },
  {
   "cell_type": "code",
   "execution_count": 16,
   "metadata": {},
   "outputs": [
    {
     "name": "stdout",
     "output_type": "stream",
     "text": [
      "The number of occurences of 5: 3\n",
      "The index of the first occurence of 4: 4\n"
     ]
    }
   ],
   "source": [
    "### Create a tuple with duplicate elements and count the occurrences of an element. Find the index of the first occurrence of an element in the tuple.\n",
    "\n",
    "tuple = (1,2,2,3,4,5,5,5,6,7,7)\n",
    "\n",
    "print(f\"The number of occurences of 5: {tuple.count(5)}\")\n",
    "print(f\"The index of the first occurence of 4: {tuple.index(4)}\")"
   ]
  },
  {
   "cell_type": "code",
   "execution_count": 17,
   "metadata": {},
   "outputs": [
    {
     "name": "stdout",
     "output_type": "stream",
     "text": [
      "1\n",
      "2\n",
      "3\n",
      "4\n",
      "5\n"
     ]
    }
   ],
   "source": [
    "### Create a tuple with 5 elements and unpack it into 5 variables. Print the variables.\n",
    "\n",
    "numbers = (1,2,3,4,5)\n",
    "\n",
    "a,b,c,d,e = numbers\n",
    "\n",
    "print(a)\n",
    "print(b)\n",
    "print(c)\n",
    "print(d)\n",
    "print(e)\n"
   ]
  },
  {
   "cell_type": "code",
   "execution_count": 1,
   "metadata": {},
   "outputs": [
    {
     "name": "stdout",
     "output_type": "stream",
     "text": [
      "[1, 2, 3, 4, 5]\n",
      "(1, 2, 3, 4, 5)\n"
     ]
    }
   ],
   "source": [
    "### Convert a list of the first 5 positive integers to a tuple. Print the tuple.\n",
    "\n",
    "numbers_list = [1,2,3,4,5]\n",
    "print(numbers_list)\n",
    "\n",
    "tupled_list = tuple(numbers_list)\n",
    "print(tupled_list)\n"
   ]
  }
 ],
 "metadata": {
  "kernelspec": {
   "display_name": "Python 3",
   "language": "python",
   "name": "python3"
  },
  "language_info": {
   "codemirror_mode": {
    "name": "ipython",
    "version": 3
   },
   "file_extension": ".py",
   "mimetype": "text/x-python",
   "name": "python",
   "nbconvert_exporter": "python",
   "pygments_lexer": "ipython3",
   "version": "3.9.6"
  }
 },
 "nbformat": 4,
 "nbformat_minor": 2
}
