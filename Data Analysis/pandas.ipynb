{
 "cells": [
  {
   "cell_type": "code",
   "execution_count": 1,
   "metadata": {},
   "outputs": [],
   "source": [
    "import pandas as pd"
   ]
  },
  {
   "cell_type": "code",
   "execution_count": 2,
   "metadata": {},
   "outputs": [
    {
     "name": "stdout",
     "output_type": "stream",
     "text": [
      "2.2.2\n"
     ]
    }
   ],
   "source": [
    "print(pd.__version__)"
   ]
  },
  {
   "cell_type": "code",
   "execution_count": 1,
   "metadata": {},
   "outputs": [
    {
     "name": "stdout",
     "output_type": "stream",
     "text": [
      "Series \n",
      " 0    1\n",
      "1    2\n",
      "2    3\n",
      "3    4\n",
      "4    5\n",
      "dtype: int64\n"
     ]
    }
   ],
   "source": [
    "### series from list\n",
    "\n",
    "import pandas as pd\n",
    "\n",
    "data=[1,2,3,4,5]\n",
    "series = pd.Series(data)\n",
    "\n",
    "print(\"Series \\n\", series)"
   ]
  },
  {
   "cell_type": "code",
   "execution_count": 4,
   "metadata": {},
   "outputs": [
    {
     "name": "stdout",
     "output_type": "stream",
     "text": [
      "a    1\n",
      "b    2\n",
      "c    3\n",
      "d    4\n",
      "dtype: int64\n"
     ]
    }
   ],
   "source": [
    "### series from dictionary\n",
    "\n",
    "data={'a':1, 'b':2, 'c':3, 'd':4}\n",
    "series_dictionary = pd.Series(data)\n",
    "\n",
    "print(series_dictionary)\n",
    "\n",
    "### keys are considered as index while the values are considered as the series values.\n"
   ]
  },
  {
   "cell_type": "code",
   "execution_count": 6,
   "metadata": {},
   "outputs": [
    {
     "data": {
      "text/plain": [
       "a    10\n",
       "b    20\n",
       "c    30\n",
       "d    40\n",
       "dtype: int64"
      ]
     },
     "execution_count": 6,
     "metadata": {},
     "output_type": "execute_result"
    }
   ],
   "source": [
    "### series with index as the keys we want to give.\n",
    "\n",
    "data=[10,20,30,40]\n",
    "index=['a', 'b','c', 'd']\n",
    "\n",
    "pd.Series(data, index=index)"
   ]
  },
  {
   "cell_type": "code",
   "execution_count": 7,
   "metadata": {},
   "outputs": [
    {
     "name": "stdout",
     "output_type": "stream",
     "text": [
      "    Name  Age      City\n",
      "0  Parth   25      Pune\n",
      "1   John   30     Delhi\n",
      "2   Jack   45  Banglore\n",
      "<class 'pandas.core.frame.DataFrame'>\n"
     ]
    }
   ],
   "source": [
    "### Dataframes\n",
    "### creating a dataframe from a dictionary of list\n",
    "\n",
    "data={\n",
    "    'Name':['Parth', 'John', 'Jack'],\n",
    "    'Age':[25,30,45],\n",
    "    'City':['Pune','Delhi','Banglore']\n",
    "}\n",
    "\n",
    "df=pd.DataFrame(data)\n",
    "print(df)\n",
    "print(type(df))\n"
   ]
  },
  {
   "cell_type": "code",
   "execution_count": 9,
   "metadata": {},
   "outputs": [
    {
     "data": {
      "text/plain": [
       "array([['Parth', 25, 'Pune'],\n",
       "       ['John', 30, 'Delhi'],\n",
       "       ['Jack', 45, 'Banglore']], dtype=object)"
      ]
     },
     "execution_count": 9,
     "metadata": {},
     "output_type": "execute_result"
    }
   ],
   "source": [
    "import numpy as np\n",
    "\n",
    "np.array(df)\n"
   ]
  }
 ],
 "metadata": {
  "kernelspec": {
   "display_name": "Python 3",
   "language": "python",
   "name": "python3"
  },
  "language_info": {
   "codemirror_mode": {
    "name": "ipython",
    "version": 3
   },
   "file_extension": ".py",
   "mimetype": "text/x-python",
   "name": "python",
   "nbconvert_exporter": "python",
   "pygments_lexer": "ipython3",
   "version": "3.12.4"
  }
 },
 "nbformat": 4,
 "nbformat_minor": 2
}
